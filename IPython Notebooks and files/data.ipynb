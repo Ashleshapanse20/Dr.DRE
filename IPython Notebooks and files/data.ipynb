{
 "cells": [
  {
   "cell_type": "code",
   "execution_count": null,
   "metadata": {},
   "outputs": [],
   "source": [
    "# Importing libraries\n",
    "\n",
    "import cv2, glob\n",
    "import numpy as np\n",
    "import matplotlib.pyplot as plt\n",
    "import tensorflow as tf\n",
    "print('Done Importing!')"
   ]
  },
  {
   "cell_type": "code",
   "execution_count": null,
   "metadata": {},
   "outputs": [],
   "source": [
    "# Setting Paths\n",
    "\n",
    "symp_path='Data/256_crop_symptoms'\n",
    "nosymp_path='Data/256_crop_nosymptoms'\n",
    "\n",
    "# Getting info about dataset\n",
    "\n",
    "image_names=glob.glob(symp_path+\"/*.tiff\")+glob.glob(nosymp_path+\"/*.tiff\")\n",
    "symp_no = len(glob.glob(symp_path+\"/*.tiff\"))\n",
    "nosymp_no = len(glob.glob(nosymp_path+\"/*.tiff\"))\n",
    "total_images=len(image_names)\n",
    "print('Total number of images having symptoms of DR:',symp_no)\n",
    "print('Total number of images having no symptoms of DR:',nosymp_no)\n",
    "print('Total number of images:',total_images)"
   ]
  },
  {
   "cell_type": "code",
   "execution_count": null,
   "metadata": {
    "scrolled": true
   },
   "outputs": [],
   "source": [
    "# Printing a random image\n",
    "\n",
    "rand = np.random.randint(symp_no)\n",
    "rand_img_name=symp_path+'/'+image_names[rand]\n",
    "print('Image:',rand_img_name)\n",
    "x=cv2.imread(image_names[rand])\n",
    "plt.imshow(x,aspect='auto')\n",
    "plt.show()\n",
    "\n",
    "# Adding images in matrix\n",
    "img_r,img_c,no_channels=x.shape\n",
    "print('Shape: ',x.shape)\n",
    "X=np.ndarray(shape=(total_images,img_r,img_c,no_channels))\n",
    "for index,image_name in enumerate(image_names):\n",
    "    X[index,:,:,:] = cv2.imread(image_names[index])\n",
    "print('Dataset shape: ',X.shape)"
   ]
  },
  {
   "cell_type": "code",
   "execution_count": null,
   "metadata": {},
   "outputs": [],
   "source": [
    "Y=np.zeros(total_images)\n",
    "Y[0:symp_no]=1\n",
    "# 1 --> symptoms\n",
    "# 2 --> no symptoms\n",
    "plt.imshow(X[np.random.randint(255)],aspect='auto')\n",
    "plt.show()\n",
    "# print(X)"
   ]
  },
  {
   "cell_type": "code",
   "execution_count": null,
   "metadata": {},
   "outputs": [],
   "source": [
    "def randomize(dataset, labels):\n",
    "    permutation = np.random.permutation(labels.shape[0])\n",
    "    print('######',labels.shape[0])\n",
    "    shuffled_dataset = dataset[permutation]\n",
    "    shuffled_labels = labels[permutation]\n",
    "    return shuffled_dataset, shuffled_labels\n",
    "\n",
    "import psutil\n",
    "print(psutil.virtual_memory())"
   ]
  },
  {
   "cell_type": "code",
   "execution_count": null,
   "metadata": {},
   "outputs": [],
   "source": [
    "shuffled_X,shuffled_Y=randomize(X,Y)"
   ]
  },
  {
   "cell_type": "code",
   "execution_count": null,
   "metadata": {},
   "outputs": [],
   "source": [
    "train_X=shuffled_X[:1562]\n",
    "train_Y=shuffled_Y[:1562]\n",
    "val_X=shuffled_X[1563:1563+250]\n",
    "val_Y=shuffled_Y[1563:1563+250]\n",
    "test_X=shuffled_X[1563+250:]\n",
    "test_Y=shuffled_Y[1563+250:]\n",
    "\n",
    "print(psutil.virtual_memory())\n",
    "plt.imshow(test_X[0],aspect='auto')\n",
    "plt.show()\n",
    "print(X)"
   ]
  },
  {
   "cell_type": "code",
   "execution_count": null,
   "metadata": {
    "collapsed": true
   },
   "outputs": [],
   "source": [
    "print('Train shape: ',train_X.shape,'Train Labels',train_Y.shape)\n",
    "print('Dev shape: ',val_X.shape,'Dev Labels',val_Y.shape)\n",
    "print('Test shape: ',test_X.shape,'Test Labels',test_Y.shape)\n",
    "del X,Y"
   ]
  },
  {
   "cell_type": "code",
   "execution_count": null,
   "metadata": {
    "collapsed": true
   },
   "outputs": [],
   "source": [
    "print(psutil.virtual_memory())"
   ]
  },
  {
   "cell_type": "code",
   "execution_count": null,
   "metadata": {
    "collapsed": true
   },
   "outputs": [],
   "source": [
    "#Flattening the datasets\n",
    "def flatten(X):\n",
    "    return X.reshape(X.shape[0],-1).T\n",
    "\n",
    "train_X=flatten(train_X)\n",
    "val_X=flatten(val_X)\n",
    "test_X=flatten(test_X)\n",
    "\n",
    "train_Y=flatten(train_Y)\n",
    "val_Y=flatten(val_Y)\n",
    "test_Y=flatten(test_Y)\n"
   ]
  },
  {
   "cell_type": "code",
   "execution_count": null,
   "metadata": {
    "collapsed": true
   },
   "outputs": [],
   "source": [
    "print('Train shape: ',train_X.shape,'Train Labels',train_Y.shape)\n",
    "print('Dev shape: ',val_X.shape,'Dev Labels',val_Y.shape)\n",
    "print('Test shape: ',test_X.shape,'Test Labels',test_Y.shape)"
   ]
  },
  {
   "cell_type": "code",
   "execution_count": null,
   "metadata": {
    "collapsed": true
   },
   "outputs": [],
   "source": [
    "#Augmentation"
   ]
  },
  {
   "cell_type": "code",
   "execution_count": null,
   "metadata": {
    "collapsed": true
   },
   "outputs": [],
   "source": [
    "print(test_X)"
   ]
  },
  {
   "cell_type": "code",
   "execution_count": null,
   "metadata": {
    "collapsed": true
   },
   "outputs": [],
   "source": []
  }
 ],
 "metadata": {
  "kernelspec": {
   "display_name": "Python 3",
   "language": "python",
   "name": "python3"
  },
  "language_info": {
   "codemirror_mode": {
    "name": "ipython",
    "version": 3
   },
   "file_extension": ".py",
   "mimetype": "text/x-python",
   "name": "python",
   "nbconvert_exporter": "python",
   "pygments_lexer": "ipython3",
   "version": "3.6.1"
  }
 },
 "nbformat": 4,
 "nbformat_minor": 2
}
